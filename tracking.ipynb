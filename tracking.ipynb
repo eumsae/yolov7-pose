{
 "cells": [
  {
   "cell_type": "code",
   "execution_count": 5,
   "metadata": {},
   "outputs": [],
   "source": [
    "import cv2\n",
    "import numpy as np\n",
    "\n",
    "class Sort():\n",
    "    def __init__(self, max_age=1, min_hits=3, iou_thres=0.3):\n",
    "        self.max_age = max_age  # Lost 후 몇 프레임 지났는지\n",
    "        self.min_hits = min_hits  # Tentative -> Confirmed 되기 위한 최소 detection 횟수\n",
    "        self.iou_thres = iou_thres\n",
    "        self.trackers = []\n",
    "        self.frame_count = 0\n",
    "\n",
    "    def update(self, dets=np.empty((0, 5))):\n",
    "        self.frame_count += 1\n",
    "        trks = np.zeros((len(self.trackers), 5))\n",
    "        to_del = []\n",
    "        ret = []\n",
    "\n",
    "        for t, trk in enumerate(trks):\n",
    "            pos = self.trackers[t].predict()[0]  # predicted position\n",
    "            trk[:] = pos[pos[0], pos[1], pos[2], pos[3]]\n",
    "            if np.any(np.isnan(pos)):\n",
    "                to_del.append(t)\n",
    "            \n",
    "        #trks = np.ma.compress_rows()\n"
   ]
  },
  {
   "cell_type": "code",
   "execution_count": null,
   "metadata": {},
   "outputs": [],
   "source": [
    "from pose import PoseEstimator\n",
    "from utils.visualization import visualize_pose\n",
    "\n",
    "estimator = PoseEstimator()\n",
    "\n",
    "video = \"./samples/pedestrians.mp4\"\n",
    "cap = cv2.VideoCapture(video)\n",
    "\n",
    "while cap.isOpened():\n",
    "    ret, frame = cap.read()\n",
    "    if not ret:\n",
    "        break\n",
    "    frame = cv2.resize(frame, (960, 540))\n",
    "    preds = estimator.estimate(frame)\n",
    "    visualize_pose(frame, preds)\n",
    "    cv2.imshow(\"res\", frame)\n",
    "    if cv2.waitKey(1) == ord('q'):\n",
    "        break\n",
    "cv2.destroyAllWindows()\n",
    "cap.release()"
   ]
  }
 ],
 "metadata": {
  "kernelspec": {
   "display_name": "Python 3",
   "language": "python",
   "name": "python3"
  },
  "language_info": {
   "codemirror_mode": {
    "name": "ipython",
    "version": 3
   },
   "file_extension": ".py",
   "mimetype": "text/x-python",
   "name": "python",
   "nbconvert_exporter": "python",
   "pygments_lexer": "ipython3",
   "version": "3.10.6"
  },
  "orig_nbformat": 4,
  "vscode": {
   "interpreter": {
    "hash": "916dbcbb3f70747c44a77c7bcd40155683ae19c65e1c03b4aa3499c5328201f1"
   }
  }
 },
 "nbformat": 4,
 "nbformat_minor": 2
}
